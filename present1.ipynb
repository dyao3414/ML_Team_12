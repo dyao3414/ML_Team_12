{
 "cells": [
  {
   "cell_type": "code",
   "execution_count": 2,
   "metadata": {},
   "outputs": [],
   "source": [
    "import numpy as np\n",
    "import pandas as pd\n",
    "import matplotlib.pyplot as plt\n",
    "from sklearn.model_selection import train_test_split\n",
    "from sklearn.linear_model import LinearRegression\n",
    "from sklearn.feature_selection import RFE\n",
    "from sklearn.metrics import mean_squared_error"
   ]
  },
  {
   "cell_type": "code",
   "execution_count": 3,
   "metadata": {},
   "outputs": [],
   "source": [
    "p=20\n",
    "n=1000\n",
    "x=np.random.randn(n,p)\n",
    "k=np.array([np.random.randn() if np.random.rand()<0.5 else 0 for i in range(p)]).reshape(-1,1)\n",
    "b=np.random.randn(n).reshape(-1,1)"
   ]
  },
  {
   "cell_type": "code",
   "execution_count": 52,
   "metadata": {},
   "outputs": [
    {
     "data": {
      "text/plain": [
       "(20, 1)"
      ]
     },
     "execution_count": 52,
     "metadata": {},
     "output_type": "execute_result"
    }
   ],
   "source": [
    "k.shape"
   ]
  },
  {
   "cell_type": "code",
   "execution_count": 4,
   "metadata": {},
   "outputs": [],
   "source": [
    "y=x@k+b"
   ]
  },
  {
   "cell_type": "code",
   "execution_count": 5,
   "metadata": {},
   "outputs": [],
   "source": [
    "X_train, X_test, y_train, y_test = train_test_split(x, y, test_size=0.9, random_state=42)"
   ]
  },
  {
   "cell_type": "code",
   "execution_count": 25,
   "metadata": {},
   "outputs": [],
   "source": [
    "def RegSubsets(X_train,y_train,nvmx:int,X_test=None,y_test=None):\n",
    "    '''\n",
    "    X_train:\n",
    "        np array, independent variables\n",
    "    y_train:\n",
    "        np array, dependent variables\n",
    "    nvmx:\n",
    "        int number of features to select\n",
    "    newx:\n",
    "        np array, test set, will predict on train set if none\n",
    "    '''\n",
    "    linreg = LinearRegression()\n",
    "    if X_test is None:\n",
    "        X_test=X_train\n",
    "        y_test=y_train\n",
    "    mse = []\n",
    "    for i in range(1, nvmx):\n",
    "        rfe = RFE(linreg, n_features_to_select=i)\n",
    "        rfe.fit(X_train, y_train)\n",
    "        linreg.fit(X_train[:, rfe.support_], y_train)\n",
    "        y_pred = linreg.predict(X_test[:, rfe.support_])\n",
    "        mse.append(mean_squared_error(y_test, y_pred))\n",
    "    return mse\n",
    "\n",
    "def get_selected_features(X_train,y_train,id):\n",
    "    linreg = LinearRegression()\n",
    "    # for i in range(1, nvmx):\n",
    "    rfe = RFE(linreg, n_features_to_select=id)\n",
    "    rfe.fit(X_train, y_train)\n",
    "    feature_index=list(np.where(rfe.support_==True)[0])\n",
    "    return feature_index\n",
    "\n"
   ]
  },
  {
   "cell_type": "code",
   "execution_count": 93,
   "metadata": {},
   "outputs": [],
   "source": [
    "class RegSubsets():\n",
    "    def __init__(self,X_train,y_train,nvmx:int):\n",
    "        self.X_train = X_train\n",
    "        self.y_train = y_train\n",
    "        self.nvmx = nvmx\n",
    "    def fit(self,X_test=None,y_test=None):\n",
    "        '''\n",
    "        if test set is not given, then model predict on train set\n",
    "        return mse of each model size\n",
    "        '''\n",
    "        linreg = LinearRegression()\n",
    "        if X_test is None:\n",
    "            X_test=self.X_train\n",
    "            y_test=self.y_train\n",
    "        mse = []\n",
    "        for i in range(1, self.nvmx):\n",
    "            rfe = RFE(linreg, n_features_to_select=i)\n",
    "            rfe.fit(self.X_train, self.y_train)\n",
    "            linreg.fit(self.X_train[:, rfe.support_], self.y_train)\n",
    "            linreg.coef_\n",
    "            y_pred = linreg.predict(X_test[:, rfe.support_])\n",
    "            mse.append(mean_squared_error(y_test, y_pred))\n",
    "        self.mse=mse\n",
    "        # return self.mse\n",
    "    def get_slope_distance(self):\n",
    "        '''\n",
    "        returns the euclidean distance between the slopes in the dataset and the predited slopes in each model size\n",
    "        '''\n",
    "        linreg = LinearRegression()\n",
    "        slope_dif=[]\n",
    "        for i in range(1, self.nvmx):\n",
    "            rfe = RFE(linreg, n_features_to_select=i)\n",
    "            rfe.fit(self.X_train, self.y_train)\n",
    "            linreg.fit(self.X_train[:, rfe.support_], self.y_train)\n",
    "            feature_index=list(np.where(rfe.support_==True)[0])\n",
    "            # get the slopes of the selected features in the dataset\n",
    "            slope_train=k[feature_index,]\n",
    "            # get the predicted slope of the selected features\n",
    "            slope_pred=linreg.coef_.reshape(-1,1)\n",
    "            # calculate the difference\n",
    "            dif=slope_train-slope_pred\n",
    "            # create a temporary array\n",
    "            temp=np.array([])\n",
    "            # loop over the numbers\n",
    "            for i in dif:\n",
    "                # add each squared element to the temporary array\n",
    "                temp=np.append(temp,np.square(i[0]))\n",
    "            # calculate the euclidean distance\n",
    "            dis=np.sqrt(np.sum(temp))\n",
    "            slope_dif.append(dis)\n",
    "        return slope_dif"
   ]
  },
  {
   "cell_type": "code",
   "execution_count": 94,
   "metadata": {},
   "outputs": [
    {
     "data": {
      "text/plain": [
       "[0.8344032371539898,\n",
       " 0.8338418673177632,\n",
       " 0.8663653622681139,\n",
       " 0.5527227860744305,\n",
       " 0.5977966700581985,\n",
       " 0.43650074152226515,\n",
       " 0.4534067954562698,\n",
       " 0.42176269940116007,\n",
       " 0.3874165423366538,\n",
       " 0.4113475980857317,\n",
       " 0.46386763758298866,\n",
       " 0.4802371850943766,\n",
       " 0.4964340008983332,\n",
       " 0.5068890937361623,\n",
       " 0.5202160260880051,\n",
       " 0.529415330140836,\n",
       " 0.5368159939716179,\n",
       " 0.5398834703897275,\n",
       " 0.5429969652658073]"
      ]
     },
     "execution_count": 94,
     "metadata": {},
     "output_type": "execute_result"
    }
   ],
   "source": [
    "regsubsets=RegSubsets(X_train,y_train,p)\n",
    "regsubsets.fit()\n",
    "regsubsets.get_slope_distance()"
   ]
  },
  {
   "cell_type": "code",
   "execution_count": 95,
   "metadata": {},
   "outputs": [
    {
     "data": {
      "text/plain": [
       "[0.8344032371539898,\n",
       " 0.8338418673177632,\n",
       " 0.8663653622681139,\n",
       " 0.5527227860744305,\n",
       " 0.5977966700581985,\n",
       " 0.43650074152226515,\n",
       " 0.4534067954562698,\n",
       " 0.42176269940116007,\n",
       " 0.3874165423366538,\n",
       " 0.4113475980857317,\n",
       " 0.46386763758298866,\n",
       " 0.4802371850943766,\n",
       " 0.4964340008983332,\n",
       " 0.5068890937361623,\n",
       " 0.5202160260880051,\n",
       " 0.529415330140836,\n",
       " 0.5368159939716179,\n",
       " 0.5398834703897275,\n",
       " 0.5429969652658073]"
      ]
     },
     "execution_count": 95,
     "metadata": {},
     "output_type": "execute_result"
    }
   ],
   "source": [
    "regsubsets.get_slope_distance()"
   ]
  },
  {
   "cell_type": "code",
   "execution_count": 27,
   "metadata": {},
   "outputs": [
    {
     "data": {
      "text/plain": [
       "array([[ 0.58332673,  1.84570662],\n",
       "       [-0.58878392, -1.17005008],\n",
       "       [ 0.0862354 , -0.27795227],\n",
       "       ...,\n",
       "       [ 0.56024402,  0.57881065],\n",
       "       [ 0.77325024,  0.21894157],\n",
       "       [-0.69502918,  0.27779712]])"
      ]
     },
     "execution_count": 27,
     "metadata": {},
     "output_type": "execute_result"
    }
   ],
   "source": [
    "idx=get_selected_features(X_train,y_train,2)\n",
    "X_test[:,idx]"
   ]
  },
  {
   "cell_type": "code",
   "execution_count": 8,
   "metadata": {},
   "outputs": [
    {
     "data": {
      "text/plain": [
       "[11.590918367909945,\n",
       " 9.477836337692498,\n",
       " 6.977007728271542,\n",
       " 4.5926674035619826,\n",
       " 3.752372555877161,\n",
       " 2.3395847258072635,\n",
       " 1.4862230912885446,\n",
       " 1.3676357700429613,\n",
       " 1.2197691471467884,\n",
       " 1.1756536885393472,\n",
       " 1.2380635315063242,\n",
       " 1.2426482123782556,\n",
       " 1.2505572383357897,\n",
       " 1.257676755937432,\n",
       " 1.2766112244250318,\n",
       " 1.2806805407160482,\n",
       " 1.2954128305417665,\n",
       " 1.2948508464187631,\n",
       " 1.2956911242649636]"
      ]
     },
     "execution_count": 8,
     "metadata": {},
     "output_type": "execute_result"
    }
   ],
   "source": [
    "train_mse=RegSubsets(X_train,y_train,nvmx=p)\n",
    "# train_mse\n",
    "test_mse=RegSubsets(X_train,y_train,p,X_test,y_test)\n",
    "test_mse"
   ]
  },
  {
   "cell_type": "code",
   "execution_count": 9,
   "metadata": {},
   "outputs": [
    {
     "data": {
      "image/png": "[encoded data removed]",
      "text/plain": [
       "<Figure size 640x480 with 1 Axes>"
      ]
     },
     "metadata": {},
     "output_type": "display_data"
    }
   ],
   "source": [
    "plt.plot(list(range(19)),test_mse)\n",
    "plt.xticks(range(0,20))\n",
    "plt.show()"
   ]
  },
  {
   "cell_type": "code",
   "execution_count": 69,
   "metadata": {},
   "outputs": [
    {
     "data": {
      "text/plain": [
       "array([False, False, False, False, False, False, False, False, False,\n",
       "       False, False, False, False, False, False, False, False, False,\n",
       "        True, False])"
      ]
     },
     "execution_count": 69,
     "metadata": {},
     "output_type": "execute_result"
    }
   ],
   "source": [
    "linreg = LinearRegression()\n",
    "selector = RFE(linreg, n_features_to_select=1)\n",
    "selector = selector.fit(x, y)\n",
    "selector.support_"
   ]
  },
  {
   "cell_type": "code",
   "execution_count": 24,
   "metadata": {},
   "outputs": [
    {
     "data": {
      "text/plain": [
       "array([[0., 0.],\n",
       "       [0., 0.]])"
      ]
     },
     "execution_count": 24,
     "metadata": {},
     "output_type": "execute_result"
    }
   ],
   "source": [
    "a=np.zeros((2,3))\n",
    "a[:,[1,2]]"
   ]
  },
  {
   "cell_type": "code",
   "execution_count": 76,
   "metadata": {},
   "outputs": [],
   "source": [
    "a=np.array([False, False, False, False, False, False, False, False, False,\n",
    "       False, False, False, False, False, False, False, False, False,\n",
    "        True, True, False, False, False, False, False, False,])\n",
    "b=np.where(a==True)"
   ]
  },
  {
   "cell_type": "code",
   "execution_count": 81,
   "metadata": {},
   "outputs": [
    {
     "data": {
      "text/plain": [
       "[18, 19]"
      ]
     },
     "execution_count": 81,
     "metadata": {},
     "output_type": "execute_result"
    }
   ],
   "source": [
    "b[0].tolist()"
   ]
  },
  {
   "cell_type": "code",
   "execution_count": null,
   "metadata": {},
   "outputs": [],
   "source": []
  }
 ],
 "metadata": {
  "kernelspec": {
   "display_name": "Python 3",
   "language": "python",
   "name": "python3"
  },
  "language_info": {
   "codemirror_mode": {
    "name": "ipython",
    "version": 3
   },
   "file_extension": ".py",
   "mimetype": "text/x-python",
   "name": "python",
   "nbconvert_exporter": "python",
   "pygments_lexer": "ipython3",
   "version": "3.10.6"
  },
  "orig_nbformat": 4,
  "vscode": {
   "interpreter": {
    "hash": "95cdb06e919eab5e2c554174537356ac9b55200d1eb6f880dc25de04343a18ea"
   }
  }
 },
 "nbformat": 4,
 "nbformat_minor": 2
}
